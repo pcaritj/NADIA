{
 "cells": [
  {
   "cell_type": "code",
   "execution_count": 1,
   "metadata": {},
   "outputs": [
    {
     "name": "stderr",
     "output_type": "stream",
     "text": [
      "c:\\users\\carit\\documents\\projects\\nadia\\env\\lib\\site-packages\\pysftp\\__init__.py:61: UserWarning: Failed to load HostKeys from C:\\Users\\carit\\.ssh\\known_hosts.  You will need to explicitly load HostKeys (cnopts.hostkeys.load(filename)) or disableHostKey checking (cnopts.hostkeys = None).\n",
      "  warnings.warn(wmsg, UserWarning)\n"
     ]
    }
   ],
   "source": [
    "%load_ext autoreload\n",
    "%autoreload 2\n",
    "\n",
    "import sys\n",
    "sys.path.append(\"../\")\n",
    "\n",
    "import pysftp\n",
    "import datetime \n",
    "import zipfile\n",
    "import nadiautil\n",
    "\n",
    "uri = \"freenas\"\n",
    "username = \"rt\"\n",
    "password = \"hydrogen1420\"\n",
    "data_dir = '/mnt/NAS/rtdata/'\n",
    "local_dir = 'dat/'\n",
    "\n",
    "serial = \"000000000c59f97b\"\n",
    "start_time = datetime.datetime(2018, 2, 6, 2, 19)\n",
    "end_time = datetime.datetime(2018, 2, 6, 3, 40)\n",
    "\n",
    "files = None\n",
    "batch_ids = []\n",
    "\n",
    "cnopts = pysftp.CnOpts()\n",
    "cnopts.hostkeys = None   \n",
    "\n",
    "with pysftp.Connection(uri, username=username, password=password, cnopts=cnopts) as sftp:\n",
    "    with sftp.cd(data_dir):\n",
    "        files = sftp.listdir()\n",
    "        for file in files:\n",
    "            this_serial, this_time = file.split('.zip')[0].split('_')\n",
    "            this_time = datetime.datetime.strptime(this_time, \"%Y-%m-%d-%H-%M-%S.%f\")\n",
    "            if (this_serial == serial and \n",
    "                this_time > start_time and \n",
    "                this_time < end_time):\n",
    "                batch_ids.append(file.split('.zip')[0])\n",
    "                sftp.get(file, local_dir+file, preserve_mtime=True)\n",
    "                zip_ref = zipfile.ZipFile(local_dir+file, 'r')\n",
    "                zip_ref.extractall(local_dir+file.split('.zip')[0])\n",
    "                zip_ref.close()\n",
    "\n"
   ]
  },
  {
   "cell_type": "code",
   "execution_count": null,
   "metadata": {},
   "outputs": [],
   "source": []
  },
  {
   "cell_type": "code",
   "execution_count": null,
   "metadata": {
    "scrolled": true
   },
   "outputs": [],
   "source": [
    "import pathlib\n",
    "import numpy as np\n",
    "import yaml\n",
    "import scipy.signal as signal\n",
    "\n",
    "\n",
    "\n",
    "\n",
    "interval_count = nadiautil.getIntervals('dat')\n",
    "\n",
    "fft_bins = 2**14\n",
    "results = np.empty([interval_count,fft_bins])\n",
    "times = np.empty([interval_count])\n",
    "freqs = np.empty([fft_bins])\n",
    "\n",
    "i = 0\n",
    "\n",
    "for batch in batch_ids:\n",
    "    this_serial, this_time = file.split('.zip')[0].split('_')\n",
    "    this_time = datetime.datetime.strptime(this_time, \"%Y-%m-%d-%H-%M-%S.%f\")\n",
    "    \n",
    "    path = pathlib.Path(local_dir + batch)\n",
    "    params = yaml.load(open(path.joinpath('params.yaml')))\n",
    "    sample_rate = int(float(params['sample_rate_hz']))\n",
    "    intervals = None\n",
    "    with open(path.joinpath('intervals')) as f:\n",
    "        intervals = [str(line).strip() for line in f]\n",
    "        for interval in intervals:\n",
    "            r = np.load(path.joinpath(interval+'.npz'))['arr_0']\n",
    "            freqs_tmp, scratch_tmp = signal.welch(r, fs=sample_rate, return_onesided=False, nperseg=fft_bins)\n",
    "            freqs = np.fft.fftshift(freqs_tmp)\n",
    "            times[i]=((this_time-datetime.datetime(2012, 1, 1))+datetime.timedelta(seconds=float(interval))).total_seconds()\n",
    "            results[i]=np.fft.fftshift(scratch_tmp)\n",
    "            i = i + 1\n",
    "            \n",
    "    "
   ]
  },
  {
   "cell_type": "code",
   "execution_count": null,
   "metadata": {},
   "outputs": [],
   "source": [
    "print(freqs.shape)\n",
    "print(results.shape)\n",
    "print(times.shape)\n"
   ]
  },
  {
   "cell_type": "code",
   "execution_count": null,
   "metadata": {},
   "outputs": [],
   "source": [
    "import matplotlib\n",
    "import matplotlib.pyplot as plt\n",
    "from matplotlib.colors import LogNorm, Normalize\n",
    "\n",
    "means = np.mean(results, axis=0)\n",
    "\n",
    "freq = params['center_freq_hz']\n",
    "bw = params['bandwidth_hz']\n",
    "\n",
    "min_freq = np.amin(freqs)+freq\n",
    "max_freq = np.amax(freqs)+freq\n",
    "\n",
    "# , figsize=(20,30)\n",
    "f, ax = plt.subplots(nrows=2, ncols=2, figsize=(15,15), gridspec_kw = \n",
    "                     {'height_ratios':[12, 1], 'width_ratios':[15, 1]})\n",
    "f.subplots_adjust(hspace=0, wspace=0)\n",
    "ax[0][0].set_xlim(min_freq, max_freq)\n",
    "\n",
    "waterfall = ax[0][0].pcolormesh(freqs+freq, times, results, cmap='inferno',\n",
    "             norm=LogNorm(np.mean(results)/100, np.amax(results)/2), \n",
    "            )\n",
    "\n",
    "\n",
    "ax[0][0].set_ylabel(\"Seconds Elapsed\")\n",
    "\n",
    "#ax[1][0].set_xlim(min_freq, max_freq)\n",
    "\n",
    "ax[1][0].set_facecolor('k')\n",
    "ax[1][0].plot(freqs+freq, means, color='w', alpha=0.5, linewidth=0.1)\n",
    "ax[1][0].set_yscale('log')\n",
    "ax[1][0].set_ylabel(\"AVG(V^2/Hz)\")\n",
    "ax[1][0].set_xlabel(\"Hz\")\n",
    "\n",
    "cbar = f.colorbar(waterfall, ax=ax[0][1])\n",
    "cbar.set_label('V^2/Hz')\n",
    "ax[0][1].set_axis_off()\n",
    "ax[1][1].set_axis_off()\n",
    "ax[0][1].set_ylabel('V^2/Hz', rotation=270)\n",
    "\n",
    "plt.show()\n"
   ]
  },
  {
   "cell_type": "code",
   "execution_count": 31,
   "metadata": {},
   "outputs": [
    {
     "data": {
      "image/png": "[encoded data removed]",
      "text/plain": [
       "<matplotlib.figure.Figure at 0x1ea8a0a5fd0>"
      ]
     },
     "metadata": {},
     "output_type": "display_data"
    }
   ],
   "source": [
    "fig, ax = plt.subplots(1)\n",
    "\n",
    "p = ax.pcolormesh(freqs+freq, np.arange(0, results.shape[0]), results)\n",
    "plt.show()"
   ]
  },
  {
   "cell_type": "code",
   "execution_count": null,
   "metadata": {},
   "outputs": [],
   "source": []
  }
 ],
 "metadata": {
  "kernelspec": {
   "display_name": "Python 3",
   "language": "python",
   "name": "python3"
  },
  "language_info": {
   "codemirror_mode": {
    "name": "ipython",
    "version": 3
   },
   "file_extension": ".py",
   "mimetype": "text/x-python",
   "name": "python",
   "nbconvert_exporter": "python",
   "pygments_lexer": "ipython3",
   "version": "3.6.4"
  }
 },
 "nbformat": 4,
 "nbformat_minor": 2
}
