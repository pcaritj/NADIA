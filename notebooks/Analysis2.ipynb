{
 "cells": [
  {
   "cell_type": "code",
   "execution_count": 21,
   "metadata": {},
   "outputs": [],
   "source": [
    "import pysftp\n",
    "import datetime \n",
    "import zipfile\n",
    "\n",
    "uri = \"freenas\"\n",
    "username = \"rt\"\n",
    "password = \"hydrogen1420\"\n",
    "data_dir = '/mnt/NAS/rtdata/'\n",
    "local_dir = 'dat/'\n",
    "\n",
    "serial = \"000000000c59f97b\"\n",
    "start_time = datetime.datetime(2018, 2, 6, 2, 19)\n",
    "end_time = datetime.datetime(2018, 2, 6, 3, 40)\n",
    "\n",
    "files = None\n",
    "batch_ids = []\n",
    "\n",
    "with pysftp.Connection(uri, username=username, password=password) as sftp:\n",
    "    with sftp.cd(data_dir):\n",
    "        files = sftp.listdir()\n",
    "        for file in files:\n",
    "            this_serial, this_time = file.split('.zip')[0].split('_')\n",
    "            this_time = datetime.datetime.strptime(this_time, \"%Y-%m-%d-%H-%M-%S.%f\")\n",
    "            if (this_serial == serial and \n",
    "                this_time > start_time and \n",
    "                this_time < end_time):\n",
    "                batch_ids.append(file.split('.zip')[0])\n",
    "                sftp.get(file, local_dir+file, preserve_mtime=True)\n",
    "                zip_ref = zipfile.ZipFile(local_dir+file, 'r')\n",
    "                zip_ref.extractall(local_dir+file.split('.zip')[0])\n",
    "                zip_ref.close()\n",
    "\n"
   ]
  },
  {
   "cell_type": "code",
   "execution_count": 23,
   "metadata": {},
   "outputs": [
    {
     "name": "stdout",
     "output_type": "stream",
     "text": [
      "[]\n"
     ]
    }
   ],
   "source": [
    "import pathlib\n",
    "import numpy as np\n",
    "\n",
    "fft_bins = 2**12\n",
    "scratch = np.empty([0,fft_bins])\n",
    "print(scratch)\n",
    "for batch in batch_ids:\n",
    "    path = pathlib.Path(local_dir + batch)\n",
    "    intervals = None\n",
    "    with open(path.joinpath('intervals')) as f:\n",
    "        intervals = [str(line).strip() for line in f]\n",
    "    \n",
    "    \n",
    "    "
   ]
  },
  {
   "cell_type": "code",
   "execution_count": null,
   "metadata": {},
   "outputs": [],
   "source": []
  }
 ],
 "metadata": {
  "kernelspec": {
   "display_name": "Python 3",
   "language": "python",
   "name": "python3"
  },
  "language_info": {
   "codemirror_mode": {
    "name": "ipython",
    "version": 3
   },
   "file_extension": ".py",
   "mimetype": "text/x-python",
   "name": "python",
   "nbconvert_exporter": "python",
   "pygments_lexer": "ipython3",
   "version": "3.6.1"
  }
 },
 "nbformat": 4,
 "nbformat_minor": 2
}
